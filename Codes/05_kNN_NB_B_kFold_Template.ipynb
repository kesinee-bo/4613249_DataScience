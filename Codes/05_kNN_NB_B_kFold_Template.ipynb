{
  "nbformat": 4,
  "nbformat_minor": 0,
  "metadata": {
    "colab": {
      "provenance": []
    },
    "kernelspec": {
      "name": "python3",
      "display_name": "Python 3"
    },
    "language_info": {
      "name": "python"
    }
  },
  "cells": [
    {
      "cell_type": "markdown",
      "source": [
        "## k-Nearest Neighbors (k-NN)"
      ],
      "metadata": {
        "id": "GClGKRyZzRYe"
      }
    },
    {
      "cell_type": "markdown",
      "source": [
        "### Breast Cancer"
      ],
      "metadata": {
        "id": "9NCSS2fC-Bw1"
      }
    },
    {
      "cell_type": "markdown",
      "source": [
        "#### k-Fold"
      ],
      "metadata": {
        "id": "x2iZKeSsrMxo"
      }
    },
    {
      "cell_type": "code",
      "source": [
        "# เตรียมข้อมูล\n",
        "import pandas as pd\n",
        "\n",
        "df_cancer= pd.read_csv('/content/drive/MyDrive/Colab Notebooks/4663236_DataScience/Datasets/breastCancer.csv')\n",
        "df_cancer.head()\n",
        "\n",
        "\n",
        "# ----------------\n",
        "# Import Classifer (Decision Tree, k-NN, NB)\n",
        "# from sklearn import tree\n",
        "from sklearn.neighbors import KNeighborsClassifier\n",
        "# ----------------\n",
        "\n",
        "from sklearn.model_selection import StratifiedKFold\n",
        "from sklearn.metrics import accuracy_score, classification_report, confusion_matrix\n",
        "import numpy as np\n",
        "\n",
        "#โหลดข้อมูล Breast Cancer\n",
        "x0=df_cancer.drop([\"diagnosis\"], axis=1)\n",
        "y=df_cancer.diagnosis.values\n",
        "\n",
        "\n",
        "# ---------------- ต้องทำใน k-NN เสมอ หรือ วิธีการที่มีการใช้ระยะทางเข้ามาเกี่ยวข้อง\n",
        "#Normalization (ปรับ Scale สามารถใช้ Min-Max (MinMaxScaler) หรือ Z-Score (StandardScaler))\n",
        "\n",
        "## Z-Score : ทำ Data Normalization ด้วย StandardScaler\n",
        "#from sklearn.preprocessing import StandardScaler\n",
        "#scaler = StandardScaler()\n",
        "\n",
        "# Min-Max : ทำ Data Normalization ด้วย Min-Max\n",
        "from sklearn.preprocessing import MinMaxScaler\n",
        "scaler = MinMaxScaler()\n",
        "\n",
        "# เรียกใช้ตัว Normalization\n",
        "scaler.fit(x0)\n",
        "X = scaler.transform(x0)\n",
        "# ----------------\n",
        "\n",
        "\n",
        "# ---- ทำ Cross-validation (k-Fold) กำหนด k เป็น 4\n",
        "# Define the number of splits (k) for cross-validation\n",
        "k = 4  # กำหนดตัวแปรสำหรับ k เป็น 4\n",
        "\n",
        "# Initialize Stratified KFold cross-validation\n",
        "# n_splits ให้เป็น k\n",
        "kf = StratifiedKFold(n_splits=k, shuffle=True, random_state=42)\n",
        "\n",
        "# Initialize empty lists to store predictions and ground truth for all folds\n",
        "# สร้างตัวแปรสำหรับการเก็บค่าผลการทำนายและค่าประเมินในแต่ละรอบ (Fold)\n",
        "all_y_true = []\n",
        "all_y_pred = []\n",
        "accuracy_scores=[]\n",
        "confusion_matrices=[]\n",
        "\n",
        "# Loop through each fold\n",
        "for train_index, test_index in kf.split(X,y):\n",
        "    X_train, X_test = X[train_index], X[test_index]\n",
        "    y_train, y_test = y[train_index], y[test_index]\n",
        "\n",
        "    # Create k-NN classifier\n",
        "    clf = KNeighborsClassifier(n_neighbors=5)\n",
        "\n",
        "    # Fit the model to the training data\n",
        "    clf.fit(X_train, y_train)\n",
        "\n",
        "    # Make predictions on the test data\n",
        "    y_pred = clf.predict(X_test)\n",
        "\n",
        "    # Calculate accuracy for this fold and store it\n",
        "    accuracy = accuracy_score(y_test, y_pred)\n",
        "    accuracy_scores.append(accuracy)\n",
        "\n",
        "    # Calculate confusion matrix and store it\n",
        "    confusion = confusion_matrix(y_test, y_pred)\n",
        "    confusion_matrices.append(confusion)\n",
        "\n",
        "    # Store ground truth and predictions for this fold\n",
        "    all_y_true.extend(y_test)\n",
        "    all_y_pred.extend(y_pred)\n",
        "\n",
        "\n",
        "# Calculate mean and standard deviation of accuracy scores\n",
        "mean_accuracy = np.mean(accuracy_scores)\n",
        "std_accuracy = np.std(accuracy_scores)\n",
        "\n",
        "# Print evaluation metrics summary\n",
        "print(f\"Mean Accuracy: {mean_accuracy:.2f}\")\n",
        "print(f\"Standard Deviation of Accuracy: {std_accuracy:.2f}\")\n",
        "\n",
        "# Print average confusion matrix (you can also compute other statistics from it)\n",
        "sum_confusion_matrix = np.sum(confusion_matrices, axis=0)\n",
        "print(\"\\n\\nSum Confusion Matrix:\")\n",
        "print(sum_confusion_matrix)\n",
        "\n",
        "\n",
        "# Generate a classification report for all folds and classes\n",
        "report = classification_report(all_y_true, all_y_pred)\n",
        "\n",
        "# Display the classification report\n",
        "print(\"\\n\\nClassification Report - All Folds and Classes:\")\n",
        "print(report)"
      ],
      "metadata": {
        "id": "BPvNOssorPHY",
        "colab": {
          "base_uri": "https://localhost:8080/"
        },
        "outputId": "257063d3-7c55-4160-e63b-73b649ad6f2a"
      },
      "execution_count": null,
      "outputs": [
        {
          "output_type": "stream",
          "name": "stdout",
          "text": [
            "Mean Accuracy: 0.96\n",
            "Standard Deviation of Accuracy: 0.01\n",
            "\n",
            "\n",
            "Sum Confusion Matrix:\n",
            "[[351   6]\n",
            " [ 16 196]]\n",
            "\n",
            "\n",
            "Classification Report - All Folds and Classes:\n",
            "              precision    recall  f1-score   support\n",
            "\n",
            "           B       0.96      0.98      0.97       357\n",
            "           M       0.97      0.92      0.95       212\n",
            "\n",
            "    accuracy                           0.96       569\n",
            "   macro avg       0.96      0.95      0.96       569\n",
            "weighted avg       0.96      0.96      0.96       569\n",
            "\n"
          ]
        }
      ]
    },
    {
      "cell_type": "markdown",
      "source": [
        "## Naïve Bayes (NB)"
      ],
      "metadata": {
        "id": "OdLse_4aBoQm"
      }
    },
    {
      "cell_type": "markdown",
      "source": [
        "### Breast Cancer"
      ],
      "metadata": {
        "id": "LWgQBE5qBoQq"
      }
    },
    {
      "cell_type": "markdown",
      "source": [
        "#### การบ้าน : k-Fold (k=5) Min-Max"
      ],
      "metadata": {
        "id": "OT5iFGjECeP3"
      }
    },
    {
      "cell_type": "code",
      "source": [],
      "metadata": {
        "id": "w_69uy1kCe7_"
      },
      "execution_count": null,
      "outputs": []
    }
  ]
}